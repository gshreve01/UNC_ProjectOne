{
 "cells": [
  {
   "cell_type": "code",
   "execution_count": 28,
   "metadata": {},
   "outputs": [],
   "source": [
    "# Dependencies and Setup\n",
    "import matplotlib.pyplot as plt\n",
    "import pandas as pd\n",
    "import numpy as np\n",
    "import requests\n",
    "import time\n",
    "from scipy.stats import linregress\n",
    "from pprint import pprint\n",
    "\n",
    "# Import API key\n",
    "from api_keys import api_key\n",
    "\n",
    "# Incorporated ciitpy to dertermine city based on latitude and longitude\n",
    "from citipy import citipy"
   ]
  },
  {
   "cell_type": "code",
   "execution_count": 37,
   "metadata": {},
   "outputs": [
    {
     "data": {
      "text/plain": [
       "[['K200001_001E', 'NAME', 'state'],\n",
       " ['155000', 'Minnesota', '27'],\n",
       " ['38000', 'Mississippi', '28'],\n",
       " ['104000', 'Missouri', '29'],\n",
       " ['21500', 'Montana', '30'],\n",
       " ['45500', 'Nebraska', '31'],\n",
       " ['41500', 'Nevada', '32'],\n",
       " ['23000', 'New Hampshire', '33'],\n",
       " ['123000', 'New Jersey', '34'],\n",
       " ['31000', 'New Mexico', '35'],\n",
       " ['298000', 'New York', '36'],\n",
       " ['142000', 'North Carolina', '37'],\n",
       " ['19000', 'North Dakota', '38'],\n",
       " ['190000', 'Ohio', '39'],\n",
       " ['92500', 'Oklahoma', '40'],\n",
       " ['60000', 'Oregon', '41'],\n",
       " ['249000', 'Pennsylvania', '42'],\n",
       " ['14000', 'Rhode Island', '44'],\n",
       " ['67000', 'South Carolina', '45'],\n",
       " ['20500', 'South Dakota', '46'],\n",
       " ['93500', 'Tennessee', '47'],\n",
       " ['336000', 'Texas', '48'],\n",
       " ['51500', 'Utah', '49'],\n",
       " ['15500', 'Vermont', '50'],\n",
       " ['123000', 'Virginia', '51'],\n",
       " ['27500', 'West Virginia', '54'],\n",
       " ['111000', 'Washington', '53'],\n",
       " ['156000', 'Wisconsin', '55'],\n",
       " ['9400', 'Wyoming', '56'],\n",
       " ['37500', 'Puerto Rico', '72'],\n",
       " ['73500', 'Alabama', '01'],\n",
       " ['18000', 'Alaska', '02'],\n",
       " ['96500', 'Arizona', '04'],\n",
       " ['46000', 'Arkansas', '05'],\n",
       " ['538000', 'California', '06'],\n",
       " ['83000', 'Colorado', '08'],\n",
       " ['52000', 'Connecticut', '09'],\n",
       " ['14500', 'Delaware', '10'],\n",
       " ['9300', 'District of Columbia', '11'],\n",
       " ['245000', 'Florida', '12'],\n",
       " ['123000', 'Georgia', '13'],\n",
       " ['25500', 'Idaho', '16'],\n",
       " ['24500', 'Hawaii', '15'],\n",
       " ['211000', 'Illinois', '17'],\n",
       " ['105000', 'Indiana', '18'],\n",
       " ['74000', 'Iowa', '19'],\n",
       " ['57000', 'Kansas', '20'],\n",
       " ['71500', 'Kentucky', '21'],\n",
       " ['59500', 'Louisiana', '22'],\n",
       " ['28000', 'Maine', '23'],\n",
       " ['86500', 'Maryland', '24'],\n",
       " ['96500', 'Massachusetts', '25'],\n",
       " ['204000', 'Michigan', '26']]"
      ]
     },
     "execution_count": 37,
     "metadata": {},
     "output_type": "execute_result"
    }
   ],
   "source": [
    "url = \"https://api.census.gov/data/2018/acs/acsse?get=K200001_001E,NAME&for=state:*\"\n",
    "units = \"imperial\"\n",
    "\n",
    "query_url = f\"{url}&key={api_key}\"\n",
    "query_url\n",
    "\n",
    "response = requests.get(query_url).json()\n",
    "response"
   ]
  },
  {
   "cell_type": "code",
   "execution_count": null,
   "metadata": {},
   "outputs": [],
   "source": []
  }
 ],
 "metadata": {
  "kernelspec": {
   "display_name": "Python 3",
   "language": "python",
   "name": "python3"
  },
  "language_info": {
   "codemirror_mode": {
    "name": "ipython",
    "version": 3
   },
   "file_extension": ".py",
   "mimetype": "text/x-python",
   "name": "python",
   "nbconvert_exporter": "python",
   "pygments_lexer": "ipython3",
   "version": "3.7.6"
  }
 },
 "nbformat": 4,
 "nbformat_minor": 4
}
